{
 "cells": [
  {
   "cell_type": "markdown",
   "id": "69ee87bb",
   "metadata": {},
   "source": [
    "# PROJECT TITLE"
   ]
  },
  {
   "cell_type": "markdown",
   "id": "a88ee7ac",
   "metadata": {},
   "source": [
    "# AN ANALYSIS OF PAYMENT BEHAVIOUR OF CUSTOMERS FOR POA INTERNET COMPANY\n",
    "## Introduction"
   ]
  },
  {
   "cell_type": "markdown",
   "id": "75f095c7",
   "metadata": {},
   "source": [
    "- This a project to analyze customers deliquency (Late renewal plan for 7 days) for an internet company called Poa. \n",
    "- This Project aims in finding the cause problems find the solution and give recommendations to the managemnet"
   ]
  },
  {
   "cell_type": "markdown",
   "id": "b3df2542",
   "metadata": {},
   "source": [
    "# Project Description"
   ]
  },
  {
   "cell_type": "markdown",
   "id": "e908dc72",
   "metadata": {},
   "source": [
    "# Project Questions"
   ]
  },
  {
   "cell_type": "markdown",
   "id": "b3a7d9cb",
   "metadata": {},
   "source": [
    "1. Analyse the data to understand customer conversion, reachability of customers by day of week, as well as individual agent perfomance.\n",
    "2. Are there any other metrics you have uncovered? If so, highlight them.\n",
    "3. Using your findings, tell the data story of the pilot so far. How has it been performing? What would you recommend we keep doing? What would you recommend we stop doing? What would you recommend we explore further?"
   ]
  },
  {
   "cell_type": "markdown",
   "id": "460bf753",
   "metadata": {},
   "source": [
    "# Project Hypothesis"
   ]
  },
  {
   "cell_type": "markdown",
   "id": "fa612568",
   "metadata": {},
   "source": [
    "Null: Customers who have a month-to-month contract, and have an average payment delay per week do not accept the new offer(periodic).\n",
    "\n",
    "Atlternative: Customers who have a month-to-month contract,and   have an average payment delay per week accept the offer(periodic billing)."
   ]
  },
  {
   "cell_type": "markdown",
   "id": "14b631bb",
   "metadata": {},
   "source": [
    "# DATA UNDERSTANDING"
   ]
  },
  {
   "cell_type": "code",
   "execution_count": null,
   "id": "559e04ee",
   "metadata": {},
   "outputs": [],
   "source": []
  },
  {
   "cell_type": "markdown",
   "id": "230d5808",
   "metadata": {},
   "source": [
    "The data for this project is in a csv format. The following describes the columns present in the data.\n",
    "\n",
    "\n",
    "Date- This is the date the agent contacted the customer\n",
    "\n",
    "Agent name- the name of the Company's Agent\n",
    "\n",
    "Response- The feedback the customer made after the call\n",
    "\n",
    "uid- the user id\n",
    "\n",
    "Converted?- the result \n",
    "\n",
    "average payment delay before weekly (days)\n",
    "\n",
    "revenue per day before weekly\n",
    "\n",
    "revenue per day after weekly"
   ]
  },
  {
   "cell_type": "markdown",
   "id": "7471f320",
   "metadata": {},
   "source": [
    "# LIBRARIES IMPORTATION"
   ]
  },
  {
   "cell_type": "code",
   "execution_count": 1,
   "id": "398876f4",
   "metadata": {},
   "outputs": [],
   "source": [
    "# linear algebra\n",
    "import numpy as np \n",
    "\n",
    "# data processing\n",
    "import pandas as pd \n",
    "\n",
    "# For creating plots\n",
    "import seaborn as sns \n",
    "\n",
    "# For specifying the axes tick format\n",
    "import matplotlib.ticker as mtick  \n",
    "import matplotlib.pyplot as plt\n",
    "\n",
    "sns.set(style = 'white')\n",
    "\n",
    "\n",
    "import os\n",
    "from sklearn import preprocessing\n",
    "\n",
    "#data split\n",
    "from sklearn.model_selection import train_test_split\n",
    "from sklearn.preprocessing import MinMaxScaler\n",
    "\n",
    "\n",
    "#label encoding\n",
    "from sklearn.preprocessing import OneHotEncoder\n"
   ]
  },
  {
   "cell_type": "markdown",
   "id": "01185cf8",
   "metadata": {},
   "source": [
    "# DATASET IMPORTATION"
   ]
  },
  {
   "cell_type": "code",
   "execution_count": 2,
   "id": "9f4dcb6b",
   "metadata": {},
   "outputs": [],
   "source": [
    "Data=pd.read_csv(\"E:\\\\MIKE\\\\POA\\\\Project_poa\\\\Analytics_Associate_Interview_test.csv\")"
   ]
  },
  {
   "cell_type": "code",
   "execution_count": 3,
   "id": "2408964e",
   "metadata": {},
   "outputs": [
    {
     "data": {
      "text/html": [
       "<div>\n",
       "<style scoped>\n",
       "    .dataframe tbody tr th:only-of-type {\n",
       "        vertical-align: middle;\n",
       "    }\n",
       "\n",
       "    .dataframe tbody tr th {\n",
       "        vertical-align: top;\n",
       "    }\n",
       "\n",
       "    .dataframe thead th {\n",
       "        text-align: right;\n",
       "    }\n",
       "</style>\n",
       "<table border=\"1\" class=\"dataframe\">\n",
       "  <thead>\n",
       "    <tr style=\"text-align: right;\">\n",
       "      <th></th>\n",
       "      <th>Date</th>\n",
       "      <th>Agent name</th>\n",
       "      <th>Response</th>\n",
       "      <th>uid</th>\n",
       "      <th>Converted?</th>\n",
       "      <th>average payment delay before weekly (days)</th>\n",
       "      <th>revenue per day before weekly</th>\n",
       "      <th>revenue per day after weekly</th>\n",
       "      <th>Unnamed: 8</th>\n",
       "      <th>Unnamed: 9</th>\n",
       "      <th>Unnamed: 10</th>\n",
       "    </tr>\n",
       "  </thead>\n",
       "  <tbody>\n",
       "    <tr>\n",
       "      <th>0</th>\n",
       "      <td>8/6/2023</td>\n",
       "      <td>Rose Kanyiri</td>\n",
       "      <td>No-financial constraints</td>\n",
       "      <td>126022</td>\n",
       "      <td>No</td>\n",
       "      <td>2</td>\n",
       "      <td>43.0</td>\n",
       "      <td>43.0</td>\n",
       "      <td>NaN</td>\n",
       "      <td>NaN</td>\n",
       "      <td>NaN</td>\n",
       "    </tr>\n",
       "    <tr>\n",
       "      <th>1</th>\n",
       "      <td>7/6/2023</td>\n",
       "      <td>Allan Mutuota</td>\n",
       "      <td>No- low priority</td>\n",
       "      <td>101372</td>\n",
       "      <td>No</td>\n",
       "      <td>1</td>\n",
       "      <td>33.0</td>\n",
       "      <td>33.0</td>\n",
       "      <td>NaN</td>\n",
       "      <td>NaN</td>\n",
       "      <td>NaN</td>\n",
       "    </tr>\n",
       "    <tr>\n",
       "      <th>2</th>\n",
       "      <td>7/5/2023</td>\n",
       "      <td>Greyson Ochanda</td>\n",
       "      <td>No- low priority</td>\n",
       "      <td>104620</td>\n",
       "      <td>No</td>\n",
       "      <td>5</td>\n",
       "      <td>28.0</td>\n",
       "      <td>28.0</td>\n",
       "      <td>NaN</td>\n",
       "      <td>NaN</td>\n",
       "      <td>NaN</td>\n",
       "    </tr>\n",
       "    <tr>\n",
       "      <th>3</th>\n",
       "      <td>8/31/2023</td>\n",
       "      <td>Allan Mutuota</td>\n",
       "      <td>No- service dissatisfaction</td>\n",
       "      <td>28997</td>\n",
       "      <td>No</td>\n",
       "      <td>3</td>\n",
       "      <td>41.0</td>\n",
       "      <td>41.0</td>\n",
       "      <td>NaN</td>\n",
       "      <td>NaN</td>\n",
       "      <td>NaN</td>\n",
       "    </tr>\n",
       "    <tr>\n",
       "      <th>4</th>\n",
       "      <td>9/13/2023</td>\n",
       "      <td>Rose Kanyiri</td>\n",
       "      <td>No- low priority</td>\n",
       "      <td>76405</td>\n",
       "      <td>No</td>\n",
       "      <td>4</td>\n",
       "      <td>29.0</td>\n",
       "      <td>29.0</td>\n",
       "      <td>NaN</td>\n",
       "      <td>NaN</td>\n",
       "      <td>NaN</td>\n",
       "    </tr>\n",
       "  </tbody>\n",
       "</table>\n",
       "</div>"
      ],
      "text/plain": [
       "        Date       Agent name                     Response     uid Converted?  \\\n",
       "0   8/6/2023     Rose Kanyiri     No-financial constraints  126022         No   \n",
       "1   7/6/2023    Allan Mutuota             No- low priority  101372         No   \n",
       "2   7/5/2023  Greyson Ochanda             No- low priority  104620         No   \n",
       "3  8/31/2023    Allan Mutuota  No- service dissatisfaction   28997         No   \n",
       "4  9/13/2023     Rose Kanyiri             No- low priority   76405         No   \n",
       "\n",
       "   average payment delay before weekly (days)  revenue per day before weekly  \\\n",
       "0                                           2                           43.0   \n",
       "1                                           1                           33.0   \n",
       "2                                           5                           28.0   \n",
       "3                                           3                           41.0   \n",
       "4                                           4                           29.0   \n",
       "\n",
       "   revenue per day after weekly  Unnamed: 8  Unnamed: 9  Unnamed: 10  \n",
       "0                          43.0         NaN         NaN          NaN  \n",
       "1                          33.0         NaN         NaN          NaN  \n",
       "2                          28.0         NaN         NaN          NaN  \n",
       "3                          41.0         NaN         NaN          NaN  \n",
       "4                          29.0         NaN         NaN          NaN  "
      ]
     },
     "execution_count": 3,
     "metadata": {},
     "output_type": "execute_result"
    }
   ],
   "source": [
    "Data.head()"
   ]
  },
  {
   "cell_type": "code",
   "execution_count": 4,
   "id": "a7ab20bd",
   "metadata": {},
   "outputs": [
    {
     "name": "stdout",
     "output_type": "stream",
     "text": [
      "<class 'pandas.core.frame.DataFrame'>\n",
      "RangeIndex: 1961 entries, 0 to 1960\n",
      "Data columns (total 11 columns):\n",
      " #   Column                                      Non-Null Count  Dtype  \n",
      "---  ------                                      --------------  -----  \n",
      " 0   Date                                        1961 non-null   object \n",
      " 1   Agent name                                  1961 non-null   object \n",
      " 2   Response                                    1961 non-null   object \n",
      " 3   uid                                         1961 non-null   int64  \n",
      " 4   Converted?                                  1961 non-null   object \n",
      " 5   average payment delay before weekly (days)  1961 non-null   int64  \n",
      " 6   revenue per day before weekly               1961 non-null   float64\n",
      " 7   revenue per day after weekly                1961 non-null   float64\n",
      " 8   Unnamed: 8                                  0 non-null      float64\n",
      " 9   Unnamed: 9                                  0 non-null      float64\n",
      " 10  Unnamed: 10                                 0 non-null      float64\n",
      "dtypes: float64(5), int64(2), object(4)\n",
      "memory usage: 168.6+ KB\n"
     ]
    }
   ],
   "source": [
    "Data.info()"
   ]
  },
  {
   "cell_type": "code",
   "execution_count": 5,
   "id": "7dd2414a",
   "metadata": {},
   "outputs": [
    {
     "data": {
      "text/plain": [
       "(1961, 11)"
      ]
     },
     "execution_count": 5,
     "metadata": {},
     "output_type": "execute_result"
    }
   ],
   "source": [
    "Data.shape"
   ]
  },
  {
   "cell_type": "code",
   "execution_count": 6,
   "id": "833d41b9",
   "metadata": {},
   "outputs": [
    {
     "data": {
      "text/plain": [
       "array(['Date', 'Agent name', 'Response', 'uid', 'Converted?',\n",
       "       'average payment delay before weekly (days)',\n",
       "       'revenue per day before weekly', 'revenue per day after weekly',\n",
       "       'Unnamed: 8', 'Unnamed: 9', 'Unnamed: 10'], dtype=object)"
      ]
     },
     "execution_count": 6,
     "metadata": {},
     "output_type": "execute_result"
    }
   ],
   "source": [
    "Data.columns.values"
   ]
  },
  {
   "cell_type": "markdown",
   "id": "dbf75604",
   "metadata": {},
   "source": [
    "# Data Cleaning"
   ]
  },
  {
   "cell_type": "code",
   "execution_count": 7,
   "id": "f6192bb1",
   "metadata": {},
   "outputs": [
    {
     "data": {
      "text/plain": [
       "Date                                           object\n",
       "Agent name                                     object\n",
       "Response                                       object\n",
       "uid                                             int64\n",
       "Converted?                                     object\n",
       "average payment delay before weekly (days)      int64\n",
       "revenue per day before weekly                 float64\n",
       "revenue per day after weekly                  float64\n",
       "Unnamed: 8                                    float64\n",
       "Unnamed: 9                                    float64\n",
       "Unnamed: 10                                   float64\n",
       "dtype: object"
      ]
     },
     "execution_count": 7,
     "metadata": {},
     "output_type": "execute_result"
    }
   ],
   "source": [
    "# lets first check the data types of all columns\n",
    "Data.dtypes"
   ]
  },
  {
   "cell_type": "code",
   "execution_count": 8,
   "id": "6db1b8e9",
   "metadata": {},
   "outputs": [],
   "source": [
    "# Change the date columns from object to date\n",
    "Data['Date']=pd.to_datetime(Data['Date'])\n"
   ]
  },
  {
   "cell_type": "code",
   "execution_count": 9,
   "id": "d7eb01e2",
   "metadata": {},
   "outputs": [
    {
     "name": "stdout",
     "output_type": "stream",
     "text": [
      "<class 'pandas.core.frame.DataFrame'>\n",
      "RangeIndex: 1961 entries, 0 to 1960\n",
      "Data columns (total 11 columns):\n",
      " #   Column                                      Non-Null Count  Dtype         \n",
      "---  ------                                      --------------  -----         \n",
      " 0   Date                                        1961 non-null   datetime64[ns]\n",
      " 1   Agent name                                  1961 non-null   object        \n",
      " 2   Response                                    1961 non-null   object        \n",
      " 3   uid                                         1961 non-null   int64         \n",
      " 4   Converted?                                  1961 non-null   object        \n",
      " 5   average payment delay before weekly (days)  1961 non-null   int64         \n",
      " 6   revenue per day before weekly               1961 non-null   float64       \n",
      " 7   revenue per day after weekly                1961 non-null   float64       \n",
      " 8   Unnamed: 8                                  0 non-null      float64       \n",
      " 9   Unnamed: 9                                  0 non-null      float64       \n",
      " 10  Unnamed: 10                                 0 non-null      float64       \n",
      "dtypes: datetime64[ns](1), float64(5), int64(2), object(3)\n",
      "memory usage: 168.6+ KB\n"
     ]
    }
   ],
   "source": [
    "Data.info()"
   ]
  },
  {
   "cell_type": "code",
   "execution_count": 10,
   "id": "2a9c1ddf",
   "metadata": {},
   "outputs": [
    {
     "data": {
      "text/plain": [
       "Date                                             0\n",
       "Agent name                                       0\n",
       "Response                                         0\n",
       "uid                                              0\n",
       "Converted?                                       0\n",
       "average payment delay before weekly (days)       0\n",
       "revenue per day before weekly                    0\n",
       "revenue per day after weekly                     0\n",
       "Unnamed: 8                                    1961\n",
       "Unnamed: 9                                    1961\n",
       "Unnamed: 10                                   1961\n",
       "dtype: int64"
      ]
     },
     "execution_count": 10,
     "metadata": {},
     "output_type": "execute_result"
    }
   ],
   "source": [
    "#Checking for missing values\n",
    "Data.isnull().sum()"
   ]
  },
  {
   "cell_type": "code",
   "execution_count": 11,
   "id": "4264d6be",
   "metadata": {},
   "outputs": [],
   "source": [
    "#Dropping the unamed columns since we do not need it\n",
    "columns_to_remove=[8, 9,10]\n",
    "df2=Data.drop(Data.columns[columns_to_remove], axis=1)"
   ]
  },
  {
   "cell_type": "code",
   "execution_count": 12,
   "id": "5244f23b",
   "metadata": {},
   "outputs": [
    {
     "data": {
      "text/html": [
       "<div>\n",
       "<style scoped>\n",
       "    .dataframe tbody tr th:only-of-type {\n",
       "        vertical-align: middle;\n",
       "    }\n",
       "\n",
       "    .dataframe tbody tr th {\n",
       "        vertical-align: top;\n",
       "    }\n",
       "\n",
       "    .dataframe thead th {\n",
       "        text-align: right;\n",
       "    }\n",
       "</style>\n",
       "<table border=\"1\" class=\"dataframe\">\n",
       "  <thead>\n",
       "    <tr style=\"text-align: right;\">\n",
       "      <th></th>\n",
       "      <th>Date</th>\n",
       "      <th>Agent name</th>\n",
       "      <th>Response</th>\n",
       "      <th>uid</th>\n",
       "      <th>Converted?</th>\n",
       "      <th>average payment delay before weekly (days)</th>\n",
       "      <th>revenue per day before weekly</th>\n",
       "      <th>revenue per day after weekly</th>\n",
       "    </tr>\n",
       "  </thead>\n",
       "  <tbody>\n",
       "    <tr>\n",
       "      <th>0</th>\n",
       "      <td>2023-08-06</td>\n",
       "      <td>Rose Kanyiri</td>\n",
       "      <td>No-financial constraints</td>\n",
       "      <td>126022</td>\n",
       "      <td>No</td>\n",
       "      <td>2</td>\n",
       "      <td>43.0</td>\n",
       "      <td>43.0</td>\n",
       "    </tr>\n",
       "    <tr>\n",
       "      <th>1</th>\n",
       "      <td>2023-07-06</td>\n",
       "      <td>Allan Mutuota</td>\n",
       "      <td>No- low priority</td>\n",
       "      <td>101372</td>\n",
       "      <td>No</td>\n",
       "      <td>1</td>\n",
       "      <td>33.0</td>\n",
       "      <td>33.0</td>\n",
       "    </tr>\n",
       "    <tr>\n",
       "      <th>2</th>\n",
       "      <td>2023-07-05</td>\n",
       "      <td>Greyson Ochanda</td>\n",
       "      <td>No- low priority</td>\n",
       "      <td>104620</td>\n",
       "      <td>No</td>\n",
       "      <td>5</td>\n",
       "      <td>28.0</td>\n",
       "      <td>28.0</td>\n",
       "    </tr>\n",
       "    <tr>\n",
       "      <th>3</th>\n",
       "      <td>2023-08-31</td>\n",
       "      <td>Allan Mutuota</td>\n",
       "      <td>No- service dissatisfaction</td>\n",
       "      <td>28997</td>\n",
       "      <td>No</td>\n",
       "      <td>3</td>\n",
       "      <td>41.0</td>\n",
       "      <td>41.0</td>\n",
       "    </tr>\n",
       "    <tr>\n",
       "      <th>4</th>\n",
       "      <td>2023-09-13</td>\n",
       "      <td>Rose Kanyiri</td>\n",
       "      <td>No- low priority</td>\n",
       "      <td>76405</td>\n",
       "      <td>No</td>\n",
       "      <td>4</td>\n",
       "      <td>29.0</td>\n",
       "      <td>29.0</td>\n",
       "    </tr>\n",
       "  </tbody>\n",
       "</table>\n",
       "</div>"
      ],
      "text/plain": [
       "        Date       Agent name                     Response     uid Converted?  \\\n",
       "0 2023-08-06     Rose Kanyiri     No-financial constraints  126022         No   \n",
       "1 2023-07-06    Allan Mutuota             No- low priority  101372         No   \n",
       "2 2023-07-05  Greyson Ochanda             No- low priority  104620         No   \n",
       "3 2023-08-31    Allan Mutuota  No- service dissatisfaction   28997         No   \n",
       "4 2023-09-13     Rose Kanyiri             No- low priority   76405         No   \n",
       "\n",
       "   average payment delay before weekly (days)  revenue per day before weekly  \\\n",
       "0                                           2                           43.0   \n",
       "1                                           1                           33.0   \n",
       "2                                           5                           28.0   \n",
       "3                                           3                           41.0   \n",
       "4                                           4                           29.0   \n",
       "\n",
       "   revenue per day after weekly  \n",
       "0                          43.0  \n",
       "1                          33.0  \n",
       "2                          28.0  \n",
       "3                          41.0  \n",
       "4                          29.0  "
      ]
     },
     "execution_count": 12,
     "metadata": {},
     "output_type": "execute_result"
    }
   ],
   "source": [
    "df2.head()"
   ]
  },
  {
   "cell_type": "code",
   "execution_count": 13,
   "id": "26b42156",
   "metadata": {},
   "outputs": [
    {
     "data": {
      "text/plain": [
       "Date                                          0\n",
       "Agent name                                    0\n",
       "Response                                      0\n",
       "uid                                           0\n",
       "Converted?                                    0\n",
       "average payment delay before weekly (days)    0\n",
       "revenue per day before weekly                 0\n",
       "revenue per day after weekly                  0\n",
       "dtype: int64"
      ]
     },
     "execution_count": 13,
     "metadata": {},
     "output_type": "execute_result"
    }
   ],
   "source": [
    "#Checking for missing values for df2\n",
    "df2.isnull().sum()"
   ]
  },
  {
   "cell_type": "markdown",
   "id": "5d27850a",
   "metadata": {},
   "source": [
    "We can now change column names so as to remove the spaces in between the columns"
   ]
  },
  {
   "cell_type": "code",
   "execution_count": 14,
   "id": "dfc79dfc",
   "metadata": {},
   "outputs": [
    {
     "data": {
      "text/html": [
       "<div>\n",
       "<style scoped>\n",
       "    .dataframe tbody tr th:only-of-type {\n",
       "        vertical-align: middle;\n",
       "    }\n",
       "\n",
       "    .dataframe tbody tr th {\n",
       "        vertical-align: top;\n",
       "    }\n",
       "\n",
       "    .dataframe thead th {\n",
       "        text-align: right;\n",
       "    }\n",
       "</style>\n",
       "<table border=\"1\" class=\"dataframe\">\n",
       "  <thead>\n",
       "    <tr style=\"text-align: right;\">\n",
       "      <th></th>\n",
       "      <th>Date</th>\n",
       "      <th>Agent_name</th>\n",
       "      <th>Response</th>\n",
       "      <th>uid</th>\n",
       "      <th>Converted?</th>\n",
       "      <th>average_payment_delay_beforeweekly</th>\n",
       "      <th>revenue_per_day_beforeweekly</th>\n",
       "      <th>revenue_per_day_afterweekly</th>\n",
       "    </tr>\n",
       "  </thead>\n",
       "  <tbody>\n",
       "    <tr>\n",
       "      <th>0</th>\n",
       "      <td>2023-08-06</td>\n",
       "      <td>Rose Kanyiri</td>\n",
       "      <td>No-financial constraints</td>\n",
       "      <td>126022</td>\n",
       "      <td>No</td>\n",
       "      <td>2</td>\n",
       "      <td>43.0</td>\n",
       "      <td>43.0</td>\n",
       "    </tr>\n",
       "    <tr>\n",
       "      <th>1</th>\n",
       "      <td>2023-07-06</td>\n",
       "      <td>Allan Mutuota</td>\n",
       "      <td>No- low priority</td>\n",
       "      <td>101372</td>\n",
       "      <td>No</td>\n",
       "      <td>1</td>\n",
       "      <td>33.0</td>\n",
       "      <td>33.0</td>\n",
       "    </tr>\n",
       "    <tr>\n",
       "      <th>2</th>\n",
       "      <td>2023-07-05</td>\n",
       "      <td>Greyson Ochanda</td>\n",
       "      <td>No- low priority</td>\n",
       "      <td>104620</td>\n",
       "      <td>No</td>\n",
       "      <td>5</td>\n",
       "      <td>28.0</td>\n",
       "      <td>28.0</td>\n",
       "    </tr>\n",
       "    <tr>\n",
       "      <th>3</th>\n",
       "      <td>2023-08-31</td>\n",
       "      <td>Allan Mutuota</td>\n",
       "      <td>No- service dissatisfaction</td>\n",
       "      <td>28997</td>\n",
       "      <td>No</td>\n",
       "      <td>3</td>\n",
       "      <td>41.0</td>\n",
       "      <td>41.0</td>\n",
       "    </tr>\n",
       "    <tr>\n",
       "      <th>4</th>\n",
       "      <td>2023-09-13</td>\n",
       "      <td>Rose Kanyiri</td>\n",
       "      <td>No- low priority</td>\n",
       "      <td>76405</td>\n",
       "      <td>No</td>\n",
       "      <td>4</td>\n",
       "      <td>29.0</td>\n",
       "      <td>29.0</td>\n",
       "    </tr>\n",
       "  </tbody>\n",
       "</table>\n",
       "</div>"
      ],
      "text/plain": [
       "        Date       Agent_name                     Response     uid Converted?  \\\n",
       "0 2023-08-06     Rose Kanyiri     No-financial constraints  126022         No   \n",
       "1 2023-07-06    Allan Mutuota             No- low priority  101372         No   \n",
       "2 2023-07-05  Greyson Ochanda             No- low priority  104620         No   \n",
       "3 2023-08-31    Allan Mutuota  No- service dissatisfaction   28997         No   \n",
       "4 2023-09-13     Rose Kanyiri             No- low priority   76405         No   \n",
       "\n",
       "   average_payment_delay_beforeweekly  revenue_per_day_beforeweekly  \\\n",
       "0                                   2                          43.0   \n",
       "1                                   1                          33.0   \n",
       "2                                   5                          28.0   \n",
       "3                                   3                          41.0   \n",
       "4                                   4                          29.0   \n",
       "\n",
       "   revenue_per_day_afterweekly  \n",
       "0                         43.0  \n",
       "1                         33.0  \n",
       "2                         28.0  \n",
       "3                         41.0  \n",
       "4                         29.0  "
      ]
     },
     "execution_count": 14,
     "metadata": {},
     "output_type": "execute_result"
    }
   ],
   "source": [
    "df2.rename(columns={'Agent name': 'Agent_name', 'average payment delay before weekly (days)': 'average_payment_delay_beforeweekly','revenue per day before weekly':'revenue_per_day_beforeweekly','revenue per day after weekly':'revenue_per_day_afterweekly'}, inplace=True)\n",
    "df2.head()"
   ]
  },
  {
   "cell_type": "code",
   "execution_count": 15,
   "id": "0eeba58a",
   "metadata": {},
   "outputs": [
    {
     "data": {
      "text/plain": [
       "(1961, 8)"
      ]
     },
     "execution_count": 15,
     "metadata": {},
     "output_type": "execute_result"
    }
   ],
   "source": [
    "df2.shape"
   ]
  },
  {
   "cell_type": "code",
   "execution_count": 16,
   "id": "f4290cfe",
   "metadata": {},
   "outputs": [],
   "source": [
    "#our new df2 has 1961 rows and 8 columns, we are good to go to EDA"
   ]
  },
  {
   "cell_type": "markdown",
   "id": "e06a887b",
   "metadata": {},
   "source": [
    "# Label Encoding for the Target Class"
   ]
  },
  {
   "cell_type": "code",
   "execution_count": 17,
   "id": "2aad00e1",
   "metadata": {},
   "outputs": [],
   "source": [
    "#Converting the target variable in a binary numeric variable\n",
    "label_encoder = preprocessing.LabelEncoder()\n",
    "df2['Converted?']=label_encoder.fit_transform(df2['Converted?'])"
   ]
  },
  {
   "cell_type": "code",
   "execution_count": 18,
   "id": "f14b74f0",
   "metadata": {
    "scrolled": true
   },
   "outputs": [
    {
     "data": {
      "text/html": [
       "<div>\n",
       "<style scoped>\n",
       "    .dataframe tbody tr th:only-of-type {\n",
       "        vertical-align: middle;\n",
       "    }\n",
       "\n",
       "    .dataframe tbody tr th {\n",
       "        vertical-align: top;\n",
       "    }\n",
       "\n",
       "    .dataframe thead th {\n",
       "        text-align: right;\n",
       "    }\n",
       "</style>\n",
       "<table border=\"1\" class=\"dataframe\">\n",
       "  <thead>\n",
       "    <tr style=\"text-align: right;\">\n",
       "      <th></th>\n",
       "      <th>Date</th>\n",
       "      <th>Agent_name</th>\n",
       "      <th>Response</th>\n",
       "      <th>uid</th>\n",
       "      <th>Converted?</th>\n",
       "      <th>average_payment_delay_beforeweekly</th>\n",
       "      <th>revenue_per_day_beforeweekly</th>\n",
       "      <th>revenue_per_day_afterweekly</th>\n",
       "    </tr>\n",
       "  </thead>\n",
       "  <tbody>\n",
       "    <tr>\n",
       "      <th>0</th>\n",
       "      <td>2023-08-06</td>\n",
       "      <td>Rose Kanyiri</td>\n",
       "      <td>No-financial constraints</td>\n",
       "      <td>126022</td>\n",
       "      <td>0</td>\n",
       "      <td>2</td>\n",
       "      <td>43.0</td>\n",
       "      <td>43.0</td>\n",
       "    </tr>\n",
       "    <tr>\n",
       "      <th>1</th>\n",
       "      <td>2023-07-06</td>\n",
       "      <td>Allan Mutuota</td>\n",
       "      <td>No- low priority</td>\n",
       "      <td>101372</td>\n",
       "      <td>0</td>\n",
       "      <td>1</td>\n",
       "      <td>33.0</td>\n",
       "      <td>33.0</td>\n",
       "    </tr>\n",
       "    <tr>\n",
       "      <th>2</th>\n",
       "      <td>2023-07-05</td>\n",
       "      <td>Greyson Ochanda</td>\n",
       "      <td>No- low priority</td>\n",
       "      <td>104620</td>\n",
       "      <td>0</td>\n",
       "      <td>5</td>\n",
       "      <td>28.0</td>\n",
       "      <td>28.0</td>\n",
       "    </tr>\n",
       "    <tr>\n",
       "      <th>3</th>\n",
       "      <td>2023-08-31</td>\n",
       "      <td>Allan Mutuota</td>\n",
       "      <td>No- service dissatisfaction</td>\n",
       "      <td>28997</td>\n",
       "      <td>0</td>\n",
       "      <td>3</td>\n",
       "      <td>41.0</td>\n",
       "      <td>41.0</td>\n",
       "    </tr>\n",
       "    <tr>\n",
       "      <th>4</th>\n",
       "      <td>2023-09-13</td>\n",
       "      <td>Rose Kanyiri</td>\n",
       "      <td>No- low priority</td>\n",
       "      <td>76405</td>\n",
       "      <td>0</td>\n",
       "      <td>4</td>\n",
       "      <td>29.0</td>\n",
       "      <td>29.0</td>\n",
       "    </tr>\n",
       "  </tbody>\n",
       "</table>\n",
       "</div>"
      ],
      "text/plain": [
       "        Date       Agent_name                     Response     uid  \\\n",
       "0 2023-08-06     Rose Kanyiri     No-financial constraints  126022   \n",
       "1 2023-07-06    Allan Mutuota             No- low priority  101372   \n",
       "2 2023-07-05  Greyson Ochanda             No- low priority  104620   \n",
       "3 2023-08-31    Allan Mutuota  No- service dissatisfaction   28997   \n",
       "4 2023-09-13     Rose Kanyiri             No- low priority   76405   \n",
       "\n",
       "   Converted?  average_payment_delay_beforeweekly  \\\n",
       "0           0                                   2   \n",
       "1           0                                   1   \n",
       "2           0                                   5   \n",
       "3           0                                   3   \n",
       "4           0                                   4   \n",
       "\n",
       "   revenue_per_day_beforeweekly  revenue_per_day_afterweekly  \n",
       "0                          43.0                         43.0  \n",
       "1                          33.0                         33.0  \n",
       "2                          28.0                         28.0  \n",
       "3                          41.0                         41.0  \n",
       "4                          29.0                         29.0  "
      ]
     },
     "execution_count": 18,
     "metadata": {},
     "output_type": "execute_result"
    }
   ],
   "source": [
    "df2.head()"
   ]
  },
  {
   "cell_type": "code",
   "execution_count": 19,
   "id": "a0795378",
   "metadata": {},
   "outputs": [
    {
     "data": {
      "text/html": [
       "<div>\n",
       "<style scoped>\n",
       "    .dataframe tbody tr th:only-of-type {\n",
       "        vertical-align: middle;\n",
       "    }\n",
       "\n",
       "    .dataframe tbody tr th {\n",
       "        vertical-align: top;\n",
       "    }\n",
       "\n",
       "    .dataframe thead th {\n",
       "        text-align: right;\n",
       "    }\n",
       "</style>\n",
       "<table border=\"1\" class=\"dataframe\">\n",
       "  <thead>\n",
       "    <tr style=\"text-align: right;\">\n",
       "      <th></th>\n",
       "      <th>Date</th>\n",
       "      <th>Agent name</th>\n",
       "      <th>Response</th>\n",
       "      <th>uid</th>\n",
       "      <th>Converted?</th>\n",
       "      <th>average payment delay before weekly (days)</th>\n",
       "      <th>revenue per day before weekly</th>\n",
       "      <th>revenue per day after weekly</th>\n",
       "      <th>Unnamed: 8</th>\n",
       "      <th>Unnamed: 9</th>\n",
       "      <th>Unnamed: 10</th>\n",
       "    </tr>\n",
       "  </thead>\n",
       "  <tbody>\n",
       "    <tr>\n",
       "      <th>0</th>\n",
       "      <td>2023-08-06</td>\n",
       "      <td>Rose Kanyiri</td>\n",
       "      <td>No-financial constraints</td>\n",
       "      <td>126022</td>\n",
       "      <td>No</td>\n",
       "      <td>2</td>\n",
       "      <td>43.0</td>\n",
       "      <td>43.0</td>\n",
       "      <td>NaN</td>\n",
       "      <td>NaN</td>\n",
       "      <td>NaN</td>\n",
       "    </tr>\n",
       "    <tr>\n",
       "      <th>1</th>\n",
       "      <td>2023-07-06</td>\n",
       "      <td>Allan Mutuota</td>\n",
       "      <td>No- low priority</td>\n",
       "      <td>101372</td>\n",
       "      <td>No</td>\n",
       "      <td>1</td>\n",
       "      <td>33.0</td>\n",
       "      <td>33.0</td>\n",
       "      <td>NaN</td>\n",
       "      <td>NaN</td>\n",
       "      <td>NaN</td>\n",
       "    </tr>\n",
       "    <tr>\n",
       "      <th>2</th>\n",
       "      <td>2023-07-05</td>\n",
       "      <td>Greyson Ochanda</td>\n",
       "      <td>No- low priority</td>\n",
       "      <td>104620</td>\n",
       "      <td>No</td>\n",
       "      <td>5</td>\n",
       "      <td>28.0</td>\n",
       "      <td>28.0</td>\n",
       "      <td>NaN</td>\n",
       "      <td>NaN</td>\n",
       "      <td>NaN</td>\n",
       "    </tr>\n",
       "    <tr>\n",
       "      <th>3</th>\n",
       "      <td>2023-08-31</td>\n",
       "      <td>Allan Mutuota</td>\n",
       "      <td>No- service dissatisfaction</td>\n",
       "      <td>28997</td>\n",
       "      <td>No</td>\n",
       "      <td>3</td>\n",
       "      <td>41.0</td>\n",
       "      <td>41.0</td>\n",
       "      <td>NaN</td>\n",
       "      <td>NaN</td>\n",
       "      <td>NaN</td>\n",
       "    </tr>\n",
       "    <tr>\n",
       "      <th>4</th>\n",
       "      <td>2023-09-13</td>\n",
       "      <td>Rose Kanyiri</td>\n",
       "      <td>No- low priority</td>\n",
       "      <td>76405</td>\n",
       "      <td>No</td>\n",
       "      <td>4</td>\n",
       "      <td>29.0</td>\n",
       "      <td>29.0</td>\n",
       "      <td>NaN</td>\n",
       "      <td>NaN</td>\n",
       "      <td>NaN</td>\n",
       "    </tr>\n",
       "  </tbody>\n",
       "</table>\n",
       "</div>"
      ],
      "text/plain": [
       "        Date       Agent name                     Response     uid Converted?  \\\n",
       "0 2023-08-06     Rose Kanyiri     No-financial constraints  126022         No   \n",
       "1 2023-07-06    Allan Mutuota             No- low priority  101372         No   \n",
       "2 2023-07-05  Greyson Ochanda             No- low priority  104620         No   \n",
       "3 2023-08-31    Allan Mutuota  No- service dissatisfaction   28997         No   \n",
       "4 2023-09-13     Rose Kanyiri             No- low priority   76405         No   \n",
       "\n",
       "   average payment delay before weekly (days)  revenue per day before weekly  \\\n",
       "0                                           2                           43.0   \n",
       "1                                           1                           33.0   \n",
       "2                                           5                           28.0   \n",
       "3                                           3                           41.0   \n",
       "4                                           4                           29.0   \n",
       "\n",
       "   revenue per day after weekly  Unnamed: 8  Unnamed: 9  Unnamed: 10  \n",
       "0                          43.0         NaN         NaN          NaN  \n",
       "1                          33.0         NaN         NaN          NaN  \n",
       "2                          28.0         NaN         NaN          NaN  \n",
       "3                          41.0         NaN         NaN          NaN  \n",
       "4                          29.0         NaN         NaN          NaN  "
      ]
     },
     "execution_count": 19,
     "metadata": {},
     "output_type": "execute_result"
    }
   ],
   "source": [
    "Data.head()"
   ]
  },
  {
   "cell_type": "code",
   "execution_count": 20,
   "id": "f1474d01",
   "metadata": {},
   "outputs": [],
   "source": [
    "#Converting the target variable in a binary numeric variable\n",
    "df2['Converted?'].replace(to_replace='Yes', value=1, inplace=True)\n",
    "df2['Converted?'].replace(to_replace='No',  value=0, inplace=True)"
   ]
  },
  {
   "cell_type": "code",
   "execution_count": 21,
   "id": "47979804",
   "metadata": {
    "scrolled": true
   },
   "outputs": [
    {
     "data": {
      "text/html": [
       "<div>\n",
       "<style scoped>\n",
       "    .dataframe tbody tr th:only-of-type {\n",
       "        vertical-align: middle;\n",
       "    }\n",
       "\n",
       "    .dataframe tbody tr th {\n",
       "        vertical-align: top;\n",
       "    }\n",
       "\n",
       "    .dataframe thead th {\n",
       "        text-align: right;\n",
       "    }\n",
       "</style>\n",
       "<table border=\"1\" class=\"dataframe\">\n",
       "  <thead>\n",
       "    <tr style=\"text-align: right;\">\n",
       "      <th></th>\n",
       "      <th>Date</th>\n",
       "      <th>Agent_name</th>\n",
       "      <th>Response</th>\n",
       "      <th>uid</th>\n",
       "      <th>Converted?</th>\n",
       "      <th>average_payment_delay_beforeweekly</th>\n",
       "      <th>revenue_per_day_beforeweekly</th>\n",
       "      <th>revenue_per_day_afterweekly</th>\n",
       "    </tr>\n",
       "  </thead>\n",
       "  <tbody>\n",
       "    <tr>\n",
       "      <th>0</th>\n",
       "      <td>2023-08-06</td>\n",
       "      <td>Rose Kanyiri</td>\n",
       "      <td>No-financial constraints</td>\n",
       "      <td>126022</td>\n",
       "      <td>0</td>\n",
       "      <td>2</td>\n",
       "      <td>43.0</td>\n",
       "      <td>43.0</td>\n",
       "    </tr>\n",
       "    <tr>\n",
       "      <th>1</th>\n",
       "      <td>2023-07-06</td>\n",
       "      <td>Allan Mutuota</td>\n",
       "      <td>No- low priority</td>\n",
       "      <td>101372</td>\n",
       "      <td>0</td>\n",
       "      <td>1</td>\n",
       "      <td>33.0</td>\n",
       "      <td>33.0</td>\n",
       "    </tr>\n",
       "    <tr>\n",
       "      <th>2</th>\n",
       "      <td>2023-07-05</td>\n",
       "      <td>Greyson Ochanda</td>\n",
       "      <td>No- low priority</td>\n",
       "      <td>104620</td>\n",
       "      <td>0</td>\n",
       "      <td>5</td>\n",
       "      <td>28.0</td>\n",
       "      <td>28.0</td>\n",
       "    </tr>\n",
       "    <tr>\n",
       "      <th>3</th>\n",
       "      <td>2023-08-31</td>\n",
       "      <td>Allan Mutuota</td>\n",
       "      <td>No- service dissatisfaction</td>\n",
       "      <td>28997</td>\n",
       "      <td>0</td>\n",
       "      <td>3</td>\n",
       "      <td>41.0</td>\n",
       "      <td>41.0</td>\n",
       "    </tr>\n",
       "    <tr>\n",
       "      <th>4</th>\n",
       "      <td>2023-09-13</td>\n",
       "      <td>Rose Kanyiri</td>\n",
       "      <td>No- low priority</td>\n",
       "      <td>76405</td>\n",
       "      <td>0</td>\n",
       "      <td>4</td>\n",
       "      <td>29.0</td>\n",
       "      <td>29.0</td>\n",
       "    </tr>\n",
       "  </tbody>\n",
       "</table>\n",
       "</div>"
      ],
      "text/plain": [
       "        Date       Agent_name                     Response     uid  \\\n",
       "0 2023-08-06     Rose Kanyiri     No-financial constraints  126022   \n",
       "1 2023-07-06    Allan Mutuota             No- low priority  101372   \n",
       "2 2023-07-05  Greyson Ochanda             No- low priority  104620   \n",
       "3 2023-08-31    Allan Mutuota  No- service dissatisfaction   28997   \n",
       "4 2023-09-13     Rose Kanyiri             No- low priority   76405   \n",
       "\n",
       "   Converted?  average_payment_delay_beforeweekly  \\\n",
       "0           0                                   2   \n",
       "1           0                                   1   \n",
       "2           0                                   5   \n",
       "3           0                                   3   \n",
       "4           0                                   4   \n",
       "\n",
       "   revenue_per_day_beforeweekly  revenue_per_day_afterweekly  \n",
       "0                          43.0                         43.0  \n",
       "1                          33.0                         33.0  \n",
       "2                          28.0                         28.0  \n",
       "3                          41.0                         41.0  \n",
       "4                          29.0                         29.0  "
      ]
     },
     "execution_count": 21,
     "metadata": {},
     "output_type": "execute_result"
    }
   ],
   "source": [
    "df2.head()"
   ]
  },
  {
   "cell_type": "code",
   "execution_count": 22,
   "id": "1521c357",
   "metadata": {},
   "outputs": [],
   "source": [
    "#df2.to_csv('PowerBi.csv')"
   ]
  },
  {
   "cell_type": "code",
   "execution_count": 23,
   "id": "dfc2f60e",
   "metadata": {},
   "outputs": [],
   "source": [
    "df2.to_csv('PowerBi.csv')\n",
    "df2.to_csv('Lookerstudio.csv')"
   ]
  },
  {
   "cell_type": "markdown",
   "id": "ce436c3a",
   "metadata": {},
   "source": [
    "# EXPLATORY DATA ANALYSIS"
   ]
  },
  {
   "cell_type": "markdown",
   "id": "f9efe73f",
   "metadata": {},
   "source": [
    "# Unariate Analysis"
   ]
  },
  {
   "cell_type": "markdown",
   "id": "2182aece",
   "metadata": {},
   "source": [
    "1. Let us first start with exploring our data set, to better understand the patterns in the data and potentially form some hypothesis. First we will look at the distribution of individual variables and then slice and dice our data for any interesting trends."
   ]
  },
  {
   "cell_type": "markdown",
   "id": "4a42a8be",
   "metadata": {},
   "source": [
    "First lets check the percentage of the customers response , how many said yes how many said no! "
   ]
  },
  {
   "cell_type": "code",
   "execution_count": 24,
   "id": "9bc91643",
   "metadata": {},
   "outputs": [
    {
     "data": {
      "image/png": "[encoded data removed]",
      "text/plain": [
       "<Figure size 500x500 with 1 Axes>"
      ]
     },
     "metadata": {},
     "output_type": "display_data"
    }
   ],
   "source": [
    "ax = (df2['Converted?'].value_counts()*100.0 /len(df2))\\\n",
    ".plot.pie(autopct='%.1f%%', labels = ['No', 'Yes'],figsize =(5,5), fontsize = 12 )                                                                           \n",
    "ax.yaxis.set_major_formatter(mtick.PercentFormatter())\n",
    "ax.set_ylabel('Conveted?',fontsize = 12)\n",
    "ax.set_title('Percentage of conversion', fontsize = 12)\n",
    "\n",
    "plt.show()"
   ]
  },
  {
   "cell_type": "markdown",
   "id": "57b6667d",
   "metadata": {},
   "source": [
    "\n",
    "We clearly see many customers said No  with a percentage of 94.1 and those who said yes are only 5.9 . We need to investigate why this was the response!"
   ]
  },
  {
   "cell_type": "markdown",
   "id": "93b7212c",
   "metadata": {},
   "source": [
    "## Let us add the Days of the week column from Date column"
   ]
  },
  {
   "cell_type": "code",
   "execution_count": 25,
   "id": "d97465b7",
   "metadata": {
    "scrolled": true
   },
   "outputs": [
    {
     "data": {
      "text/html": [
       "<div>\n",
       "<style scoped>\n",
       "    .dataframe tbody tr th:only-of-type {\n",
       "        vertical-align: middle;\n",
       "    }\n",
       "\n",
       "    .dataframe tbody tr th {\n",
       "        vertical-align: top;\n",
       "    }\n",
       "\n",
       "    .dataframe thead th {\n",
       "        text-align: right;\n",
       "    }\n",
       "</style>\n",
       "<table border=\"1\" class=\"dataframe\">\n",
       "  <thead>\n",
       "    <tr style=\"text-align: right;\">\n",
       "      <th></th>\n",
       "      <th>Date</th>\n",
       "      <th>Agent_name</th>\n",
       "      <th>Response</th>\n",
       "      <th>uid</th>\n",
       "      <th>Converted?</th>\n",
       "      <th>average_payment_delay_beforeweekly</th>\n",
       "      <th>revenue_per_day_beforeweekly</th>\n",
       "      <th>revenue_per_day_afterweekly</th>\n",
       "      <th>Day_of_Week</th>\n",
       "    </tr>\n",
       "  </thead>\n",
       "  <tbody>\n",
       "    <tr>\n",
       "      <th>0</th>\n",
       "      <td>2023-08-06</td>\n",
       "      <td>Rose Kanyiri</td>\n",
       "      <td>No-financial constraints</td>\n",
       "      <td>126022</td>\n",
       "      <td>0</td>\n",
       "      <td>2</td>\n",
       "      <td>43.0</td>\n",
       "      <td>43.0</td>\n",
       "      <td>Sunday</td>\n",
       "    </tr>\n",
       "    <tr>\n",
       "      <th>1</th>\n",
       "      <td>2023-07-06</td>\n",
       "      <td>Allan Mutuota</td>\n",
       "      <td>No- low priority</td>\n",
       "      <td>101372</td>\n",
       "      <td>0</td>\n",
       "      <td>1</td>\n",
       "      <td>33.0</td>\n",
       "      <td>33.0</td>\n",
       "      <td>Thursday</td>\n",
       "    </tr>\n",
       "    <tr>\n",
       "      <th>2</th>\n",
       "      <td>2023-07-05</td>\n",
       "      <td>Greyson Ochanda</td>\n",
       "      <td>No- low priority</td>\n",
       "      <td>104620</td>\n",
       "      <td>0</td>\n",
       "      <td>5</td>\n",
       "      <td>28.0</td>\n",
       "      <td>28.0</td>\n",
       "      <td>Wednesday</td>\n",
       "    </tr>\n",
       "    <tr>\n",
       "      <th>3</th>\n",
       "      <td>2023-08-31</td>\n",
       "      <td>Allan Mutuota</td>\n",
       "      <td>No- service dissatisfaction</td>\n",
       "      <td>28997</td>\n",
       "      <td>0</td>\n",
       "      <td>3</td>\n",
       "      <td>41.0</td>\n",
       "      <td>41.0</td>\n",
       "      <td>Thursday</td>\n",
       "    </tr>\n",
       "    <tr>\n",
       "      <th>4</th>\n",
       "      <td>2023-09-13</td>\n",
       "      <td>Rose Kanyiri</td>\n",
       "      <td>No- low priority</td>\n",
       "      <td>76405</td>\n",
       "      <td>0</td>\n",
       "      <td>4</td>\n",
       "      <td>29.0</td>\n",
       "      <td>29.0</td>\n",
       "      <td>Wednesday</td>\n",
       "    </tr>\n",
       "  </tbody>\n",
       "</table>\n",
       "</div>"
      ],
      "text/plain": [
       "        Date       Agent_name                     Response     uid  \\\n",
       "0 2023-08-06     Rose Kanyiri     No-financial constraints  126022   \n",
       "1 2023-07-06    Allan Mutuota             No- low priority  101372   \n",
       "2 2023-07-05  Greyson Ochanda             No- low priority  104620   \n",
       "3 2023-08-31    Allan Mutuota  No- service dissatisfaction   28997   \n",
       "4 2023-09-13     Rose Kanyiri             No- low priority   76405   \n",
       "\n",
       "   Converted?  average_payment_delay_beforeweekly  \\\n",
       "0           0                                   2   \n",
       "1           0                                   1   \n",
       "2           0                                   5   \n",
       "3           0                                   3   \n",
       "4           0                                   4   \n",
       "\n",
       "   revenue_per_day_beforeweekly  revenue_per_day_afterweekly Day_of_Week  \n",
       "0                          43.0                         43.0      Sunday  \n",
       "1                          33.0                         33.0    Thursday  \n",
       "2                          28.0                         28.0   Wednesday  \n",
       "3                          41.0                         41.0    Thursday  \n",
       "4                          29.0                         29.0   Wednesday  "
      ]
     },
     "execution_count": 25,
     "metadata": {},
     "output_type": "execute_result"
    }
   ],
   "source": [
    "df2['Day_of_Week'] = df2['Date'].dt.day_name()\n",
    "df2.head()\n"
   ]
  },
  {
   "cell_type": "code",
   "execution_count": 74,
   "id": "accb272e",
   "metadata": {
    "scrolled": false
   },
   "outputs": [],
   "source": [
    "#Here we determine the reachabilty of the customers by Day i.e which day are the customers more rechable\n",
    "reachability_by_day = df2.groupby('Day_of_Week')['Response'].value_counts().unstack()\n"
   ]
  },
  {
   "cell_type": "code",
   "execution_count": 76,
   "id": "a0f3100f",
   "metadata": {},
   "outputs": [
    {
     "data": {
      "text/html": [
       "<div>\n",
       "<style scoped>\n",
       "    .dataframe tbody tr th:only-of-type {\n",
       "        vertical-align: middle;\n",
       "    }\n",
       "\n",
       "    .dataframe tbody tr th {\n",
       "        vertical-align: top;\n",
       "    }\n",
       "\n",
       "    .dataframe thead th {\n",
       "        text-align: right;\n",
       "    }\n",
       "</style>\n",
       "<table border=\"1\" class=\"dataframe\">\n",
       "  <thead>\n",
       "    <tr style=\"text-align: right;\">\n",
       "      <th>Response</th>\n",
       "      <th>No- low priority</th>\n",
       "      <th>No- service dissatisfaction</th>\n",
       "      <th>No-financial constraints</th>\n",
       "      <th>Not reachable</th>\n",
       "      <th>Yes- affordable</th>\n",
       "      <th>Total_Responses</th>\n",
       "    </tr>\n",
       "    <tr>\n",
       "      <th>Day_of_Week</th>\n",
       "      <th></th>\n",
       "      <th></th>\n",
       "      <th></th>\n",
       "      <th></th>\n",
       "      <th></th>\n",
       "      <th></th>\n",
       "    </tr>\n",
       "  </thead>\n",
       "  <tbody>\n",
       "    <tr>\n",
       "      <th>Friday</th>\n",
       "      <td>109</td>\n",
       "      <td>9</td>\n",
       "      <td>54</td>\n",
       "      <td>23</td>\n",
       "      <td>119</td>\n",
       "      <td>628</td>\n",
       "    </tr>\n",
       "    <tr>\n",
       "      <th>Saturday</th>\n",
       "      <td>92</td>\n",
       "      <td>12</td>\n",
       "      <td>36</td>\n",
       "      <td>14</td>\n",
       "      <td>141</td>\n",
       "      <td>590</td>\n",
       "    </tr>\n",
       "    <tr>\n",
       "      <th>Thursday</th>\n",
       "      <td>97</td>\n",
       "      <td>13</td>\n",
       "      <td>46</td>\n",
       "      <td>18</td>\n",
       "      <td>118</td>\n",
       "      <td>584</td>\n",
       "    </tr>\n",
       "    <tr>\n",
       "      <th>Sunday</th>\n",
       "      <td>81</td>\n",
       "      <td>12</td>\n",
       "      <td>37</td>\n",
       "      <td>23</td>\n",
       "      <td>125</td>\n",
       "      <td>556</td>\n",
       "    </tr>\n",
       "    <tr>\n",
       "      <th>Wednesday</th>\n",
       "      <td>81</td>\n",
       "      <td>15</td>\n",
       "      <td>41</td>\n",
       "      <td>22</td>\n",
       "      <td>116</td>\n",
       "      <td>550</td>\n",
       "    </tr>\n",
       "    <tr>\n",
       "      <th>Monday</th>\n",
       "      <td>79</td>\n",
       "      <td>10</td>\n",
       "      <td>49</td>\n",
       "      <td>20</td>\n",
       "      <td>103</td>\n",
       "      <td>522</td>\n",
       "    </tr>\n",
       "    <tr>\n",
       "      <th>Tuesday</th>\n",
       "      <td>82</td>\n",
       "      <td>5</td>\n",
       "      <td>40</td>\n",
       "      <td>17</td>\n",
       "      <td>102</td>\n",
       "      <td>492</td>\n",
       "    </tr>\n",
       "  </tbody>\n",
       "</table>\n",
       "</div>"
      ],
      "text/plain": [
       "Response     No- low priority  No- service dissatisfaction  \\\n",
       "Day_of_Week                                                  \n",
       "Friday                    109                            9   \n",
       "Saturday                   92                           12   \n",
       "Thursday                   97                           13   \n",
       "Sunday                     81                           12   \n",
       "Wednesday                  81                           15   \n",
       "Monday                     79                           10   \n",
       "Tuesday                    82                            5   \n",
       "\n",
       "Response     No-financial constraints  Not reachable  Yes- affordable  \\\n",
       "Day_of_Week                                                             \n",
       "Friday                             54             23              119   \n",
       "Saturday                           36             14              141   \n",
       "Thursday                           46             18              118   \n",
       "Sunday                             37             23              125   \n",
       "Wednesday                          41             22              116   \n",
       "Monday                             49             20              103   \n",
       "Tuesday                            40             17              102   \n",
       "\n",
       "Response     Total_Responses  \n",
       "Day_of_Week                   \n",
       "Friday                   628  \n",
       "Saturday                 590  \n",
       "Thursday                 584  \n",
       "Sunday                   556  \n",
       "Wednesday                550  \n",
       "Monday                   522  \n",
       "Tuesday                  492  "
      ]
     },
     "execution_count": 76,
     "metadata": {},
     "output_type": "execute_result"
    }
   ],
   "source": [
    " reachability_by_day['Total_Responses'] = reachability_by_day.sum(axis=1)\n",
    "\n",
    "# We Sort the DataFrame based on the 'Total_Responses' column in descending order\n",
    "reachability_by_day_sorted = reachability_by_day.sort_values(by='Total_Responses', ascending=False)\n",
    "\n",
    "# Display the sorted DataFrame\n",
    "reachability_by_day_sorted\n"
   ]
  },
  {
   "cell_type": "code",
   "execution_count": 77,
   "id": "6f485e43",
   "metadata": {},
   "outputs": [
    {
     "data": {
      "image/png": "[encoded data removed]",
      "text/plain": [
       "<Figure size 640x480 with 1 Axes>"
      ]
     },
     "metadata": {},
     "output_type": "display_data"
    }
   ],
   "source": [
    "# Sort the DataFrame based on the 'Total_Responses' column in descending order\n",
    "reachability_by_day_sorted = reachability_by_day.sort_values(by='Total_Responses', ascending=True)\n",
    "\n",
    "# Use Viridis color palette\n",
    "colors = ['#E4512B', '#4D3425']\n",
    "#viridis_palette = sns.color_palette('viridis', len(reachability_by_day_sorted))\n",
    "\n",
    "# Plot a horizontal bar graph\n",
    "plt.barh(reachability_by_day_sorted.index, reachability_by_day_sorted['Total_Responses'], color=colors)\n",
    "plt.title('Horizontal Bar Graph of Total Responses by Day of the Week')\n",
    "plt.xlabel('Total Responses')\n",
    "plt.ylabel('Day of the Week')\n",
    "plt.show()\n",
    "\n"
   ]
  },
  {
   "cell_type": "markdown",
   "id": "1ad23a9b",
   "metadata": {},
   "source": [
    "- From this Insight we clearly see most customers reachability is on Friday while Tuesday has few customer's reachabilty"
   ]
  },
  {
   "cell_type": "markdown",
   "id": "d9cfe1c9",
   "metadata": {},
   "source": [
    "### We  plot Agents against conversion. This will enable us see how agents performed as per the conversion rate!"
   ]
  },
  {
   "cell_type": "code",
   "execution_count": 30,
   "id": "3020f719",
   "metadata": {},
   "outputs": [
    {
     "data": {
      "image/png": "[encoded data removed]",
      "text/plain": [
       "<Figure size 1000x600 with 1 Axes>"
      ]
     },
     "metadata": {},
     "output_type": "display_data"
    }
   ],
   "source": [
    "\n",
    "colors = ['#E4512B', '#4D3425']\n",
    "agents_performance = df2.groupby(['Agent_name', 'Converted?']).size().unstack()\n",
    "\n",
    "# Calculate total percentage for each agent and sort\n",
    "agents_total_percentage = (agents_performance.T * 100.0 / agents_performance.T.sum()).T\n",
    "agents_total_percentage['Total_Percentage'] = agents_total_percentage.sum(axis=1)\n",
    "agents_total_percentage_sorted = agents_total_percentage.sort_values(by='Total_Percentage', ascending=False)\n",
    "\n",
    "# Plot the sorted stacked bar chart\n",
    "ax = (agents_total_percentage_sorted.drop('Total_Percentage', axis=1)\n",
    "      .plot(kind='bar', width=0.3, stacked=True, rot=0, figsize=(10, 6), color=colors))\n",
    "\n",
    "ax.yaxis.set_major_formatter(mtick.PercentFormatter())\n",
    "ax.legend(loc='best', prop={'size': 14}, title='Conversion')\n",
    "ax.set_ylabel('% Customers', size=14)\n",
    "ax.set_title('Conversion by Agents', size=14)\n",
    "\n",
    "# Adding labels on the sorted stacked bar chart\n",
    "for p in ax.patches:\n",
    "    width, height = p.get_width(), p.get_height()\n",
    "    x, y = p.get_xy()\n",
    "    ax.annotate('{:.0f}%'.format(height), (p.get_x() + .25 * width, p.get_y() + .4 * height), color='white', weight='bold', size=14)\n",
    "\n",
    "plt.show()\n"
   ]
  },
  {
   "cell_type": "markdown",
   "id": "da039a19",
   "metadata": {},
   "source": [
    "- We can clearly see the Agents performance where we can  see Lutta Mboya emerged as the best Agent and  converted   by 12 %  while the least agent had 4 % conversion"
   ]
  },
  {
   "cell_type": "code",
   "execution_count": null,
   "id": "bb60286a",
   "metadata": {},
   "outputs": [],
   "source": []
  },
  {
   "cell_type": "markdown",
   "id": "3785e6d0",
   "metadata": {},
   "source": [
    "### we need to analyze again the agents performance on the number of clients contacted rather than considering the conversion rate\n"
   ]
  },
  {
   "cell_type": "code",
   "execution_count": 78,
   "id": "e311c051",
   "metadata": {},
   "outputs": [
    {
     "data": {
      "text/html": [
       "<div>\n",
       "<style scoped>\n",
       "    .dataframe tbody tr th:only-of-type {\n",
       "        vertical-align: middle;\n",
       "    }\n",
       "\n",
       "    .dataframe tbody tr th {\n",
       "        vertical-align: top;\n",
       "    }\n",
       "\n",
       "    .dataframe thead th {\n",
       "        text-align: right;\n",
       "    }\n",
       "</style>\n",
       "<table border=\"1\" class=\"dataframe\">\n",
       "  <thead>\n",
       "    <tr style=\"text-align: right;\">\n",
       "      <th>Converted?</th>\n",
       "      <th>0</th>\n",
       "      <th>1</th>\n",
       "    </tr>\n",
       "    <tr>\n",
       "      <th>Agent_name</th>\n",
       "      <th></th>\n",
       "      <th></th>\n",
       "    </tr>\n",
       "  </thead>\n",
       "  <tbody>\n",
       "    <tr>\n",
       "      <th>Allan Mutuota</th>\n",
       "      <td>579</td>\n",
       "      <td>27</td>\n",
       "    </tr>\n",
       "    <tr>\n",
       "      <th>Greyson Ochanda</th>\n",
       "      <td>460</td>\n",
       "      <td>24</td>\n",
       "    </tr>\n",
       "    <tr>\n",
       "      <th>Lutta Mboya</th>\n",
       "      <td>329</td>\n",
       "      <td>46</td>\n",
       "    </tr>\n",
       "    <tr>\n",
       "      <th>Rose Kanyiri</th>\n",
       "      <td>477</td>\n",
       "      <td>19</td>\n",
       "    </tr>\n",
       "  </tbody>\n",
       "</table>\n",
       "</div>"
      ],
      "text/plain": [
       "Converted?         0   1\n",
       "Agent_name              \n",
       "Allan Mutuota    579  27\n",
       "Greyson Ochanda  460  24\n",
       "Lutta Mboya      329  46\n",
       "Rose Kanyiri     477  19"
      ]
     },
     "execution_count": 78,
     "metadata": {},
     "output_type": "execute_result"
    }
   ],
   "source": [
    "agent_performance = df2.groupby('Agent_name')['Converted?'].value_counts().unstack()\n",
    "agent_performance"
   ]
  },
  {
   "cell_type": "markdown",
   "id": "13cc9b28",
   "metadata": {},
   "source": [
    "- From this insight we find that Allan Mutuota conatacted so many clients but conversion was low, compared to Lutta Mboya who contacted almost half of what Allan contacted but his conversion was Incredibly high.This means Lutta has conversion best skills. "
   ]
  },
  {
   "cell_type": "markdown",
   "id": "5653c806",
   "metadata": {},
   "source": [
    "#  Uncovered Metrics:\n",
    "## Financial Impact:\n",
    "### We Calculate the financial impact by assessing the revenue per day before and after the weekly plan for converted customers.\n",
    " \n",
    " \n"
   ]
  },
  {
   "cell_type": "code",
   "execution_count": 87,
   "id": "02cd36b4",
   "metadata": {},
   "outputs": [
    {
     "data": {
      "text/plain": [
       "4107.0"
      ]
     },
     "execution_count": 87,
     "metadata": {},
     "output_type": "execute_result"
    }
   ],
   "source": [
    "total_revenue_before=df2[df2['Converted?']==1]['revenue_per_day_beforeweekly'].sum()\n",
    "total_revenue_before"
   ]
  },
  {
   "cell_type": "code",
   "execution_count": 88,
   "id": "2fdbe4ce",
   "metadata": {},
   "outputs": [
    {
     "data": {
      "text/plain": [
       "5576.0"
      ]
     },
     "execution_count": 88,
     "metadata": {},
     "output_type": "execute_result"
    }
   ],
   "source": [
    "total_revenue_after = df2[df2['Converted?'] == 1]['revenue_per_day_afterweekly'].sum()\n",
    "total_revenue_after\n"
   ]
  },
  {
   "cell_type": "code",
   "execution_count": 89,
   "id": "c39df3b2",
   "metadata": {},
   "outputs": [
    {
     "name": "stdout",
     "output_type": "stream",
     "text": [
      "Financial Impact: KES 1469.00\n"
     ]
    }
   ],
   "source": [
    "financial_impact = total_revenue_after - total_revenue_before\n",
    "print(f\"Financial Impact: KES {financial_impact:.2f}\")"
   ]
  },
  {
   "cell_type": "code",
   "execution_count": 90,
   "id": "c5470016",
   "metadata": {},
   "outputs": [
    {
     "name": "stdout",
     "output_type": "stream",
     "text": [
      "Average Financial Impact per  customer after conversion : KES 12.66\n"
     ]
    }
   ],
   "source": [
    "Average_financial_impact=financial_impact/len(df2[df2['Converted?'] == 1])\n",
    "print(f\"Average Financial Impact per  customer after conversion : KES {Average_financial_impact:.2f}\")\n"
   ]
  },
  {
   "cell_type": "markdown",
   "id": "b616d76d",
   "metadata": {},
   "source": [
    "- Before the weekly Revenue the total daily  revenue from the converted customers used to be Kshs 4107.\n",
    "\n",
    "- After subscribing to the weekly billing the total daily  revenue from the converted customers is now  Kshs 5576.\n",
    "\n",
    "- This represents  a daily revenue increment by Kshs 1469 or 35.77 %.\n",
    "\n",
    "Converting customers to the weekly billing plan results in reduced deliquency hence optimizing revenue."
   ]
  },
  {
   "cell_type": "markdown",
   "id": "25635526",
   "metadata": {},
   "source": [
    "### We need to know the number of customers that rejected the offer with specific reason and find the insights on how we can help or improve the plan."
   ]
  },
  {
   "cell_type": "code",
   "execution_count": 91,
   "id": "902e86ce",
   "metadata": {},
   "outputs": [
    {
     "data": {
      "image/png": "[encoded data removed]",
      "text/plain": [
       "<Figure size 640x480 with 1 Axes>"
      ]
     },
     "metadata": {},
     "output_type": "display_data"
    }
   ],
   "source": [
    "ax = df2['Response'].value_counts().plot(kind = 'bar',rot = 90, width = 0.3)\n",
    "ax.set_ylabel('No. of Customers')\n",
    "ax.set_title('customers response on the offer')\n",
    "plt.xticks(rotation=45)\n",
    "\n",
    "plt.show()\n",
    "\n"
   ]
  },
  {
   "cell_type": "markdown",
   "id": "cda83503",
   "metadata": {},
   "source": [
    "- We find that customers who find the offer affordable were leading while the one who said service dissatifaction were the lowest. This will further lead us to identify how many customers who said the offer was affordable opted to purchase the offer\n"
   ]
  },
  {
   "cell_type": "markdown",
   "id": "4295dc6b",
   "metadata": {},
   "source": [
    "# RECOMMENDATIONS ."
   ]
  },
  {
   "cell_type": "markdown",
   "id": "22fab89e",
   "metadata": {},
   "source": [
    "# Data Story and Recommendations:\n",
    "\n"
   ]
  },
  {
   "cell_type": "markdown",
   "id": "ab4b165a",
   "metadata": {},
   "source": [
    "Performance Overview:\n",
    "The conversion rate indicates the success of the periodic billing pilot. Analyzing reachability by day of the week could help in optimizing the timing of calls. Individual agent performance can highlight top performers.\n",
    " \n",
    "Financial Impact:The financial impact, considering the revenue per day before and after the weekly plan, provides insights into the economic success of the pilot.\n",
    " \n",
    "Recommendations:\n",
    "Continue Optimization: Analyze the reachability patterns and schedule calls during days/times when customers are more likely to answer i.e on Fridays most customers were reached\n",
    " \n",
    "Recognize Top Performers: Identify top-performing agents and share their strategies with others, implement Incentives for top performers and encourage Daily target. Also empahsize on Quality contacts that would drive better conversion rates.\n",
    " \n",
    "Financial Assessment: Regularly assess the financial impact to ensure the pilot is economically viable.\n",
    " \n",
    "Explore Non-Converted Reasons: Understand reasons behind \"No\" responses and explore whether addressing these issues can improve conversion rates. For customers that have customer dissatisfaction the company should identify the reasons and introduce more offers.\n",
    " \n",
    "Explore Further Opportunities: Investigate if there are other customer segments or plans that could be introduced based on the data trends.\n",
    " \n",
    "Feedback Loop: Establish a feedback loop with customer retention agents to gather qualitative insights and continuously refine strategies.\n",
    " \n",
    "By combining quantitative and qualitative insights, the company can make informed decisions to enhance the pilot's performance and customer satisfaction. Regular monitoring and adaptation based on feedback will be key to long-term success."
   ]
  },
  {
   "cell_type": "code",
   "execution_count": null,
   "id": "b81e1856",
   "metadata": {},
   "outputs": [],
   "source": []
  }
 ],
 "metadata": {
  "kernelspec": {
   "display_name": "Python 3 (ipykernel)",
   "language": "python",
   "name": "python3"
  },
  "language_info": {
   "codemirror_mode": {
    "name": "ipython",
    "version": 3
   },
   "file_extension": ".py",
   "mimetype": "text/x-python",
   "name": "python",
   "nbconvert_exporter": "python",
   "pygments_lexer": "ipython3",
   "version": "3.9.13"
  }
 },
 "nbformat": 4,
 "nbformat_minor": 5
}
